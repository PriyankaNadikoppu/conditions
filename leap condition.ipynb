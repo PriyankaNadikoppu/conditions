{
 "cells": [
  {
   "cell_type": "code",
   "execution_count": null,
   "id": "d751f031-bbe5-45d3-89ff-ef141db41c55",
   "metadata": {},
   "outputs": [],
   "source": [
    "'''check whether the given input is a leap year for 4 yrs and centurians by if-else'''\n",
    "leap= int(input(\"enter the leap year:\"))\n",
    "if leap%4==0 or leap%100==0 or leap%400==0:\n",
    "    print(\"the leap year\")\n",
    "else:\n",
    "    print(\"not leap year\")"
   ]
  }
 ],
 "metadata": {
  "kernelspec": {
   "display_name": "Python 3 (ipykernel)",
   "language": "python",
   "name": "python3"
  },
  "language_info": {
   "codemirror_mode": {
    "name": "ipython",
    "version": 3
   },
   "file_extension": ".py",
   "mimetype": "text/x-python",
   "name": "python",
   "nbconvert_exporter": "python",
   "pygments_lexer": "ipython3",
   "version": "3.12.7"
  }
 },
 "nbformat": 4,
 "nbformat_minor": 5
}
