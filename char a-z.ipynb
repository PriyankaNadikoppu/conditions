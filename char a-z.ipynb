{
 "cells": [
  {
   "cell_type": "code",
   "execution_count": null,
   "id": "ddf1c611-01a3-4eb4-b156-0243b91d9703",
   "metadata": {},
   "outputs": [],
   "source": [
    "'''write a program to enter a character (a to z), if the entered chartacter is in lower convert into upper and viceversa.\n",
    "input:a\n",
    "output:A\n",
    "input:y\n",
    "output:Y'''\n",
    "char= input(\"enter the character from a-z\")\n",
    "if char>='A' and char<='Z':\n",
    "    char= char.lower()\n",
    "    print(\"converted case of input char:\",char)\n",
    "else:\n",
    "    char= char.upper()\n",
    "    print(\"converted case of input char:\",char)\n"
   ]
  }
 ],
 "metadata": {
  "kernelspec": {
   "display_name": "Python 3 (ipykernel)",
   "language": "python",
   "name": "python3"
  },
  "language_info": {
   "codemirror_mode": {
    "name": "ipython",
    "version": 3
   },
   "file_extension": ".py",
   "mimetype": "text/x-python",
   "name": "python",
   "nbconvert_exporter": "python",
   "pygments_lexer": "ipython3",
   "version": "3.12.7"
  }
 },
 "nbformat": 4,
 "nbformat_minor": 5
}
