{
 "cells": [
  {
   "cell_type": "code",
   "execution_count": null,
   "id": "805006fe-02b2-4bad-a68f-845b92e69b66",
   "metadata": {},
   "outputs": [],
   "source": [
    "'''create a simple calculator by using if-elif to perform arthimetic operations +-/* by choice of user input'''\n",
    "a= float(input(\"enter the value of a:\"))\n",
    "a= float(input(\"enter the value of b:\"))\n",
    "op= input(\"enter the operator(+, -, /, *):\")\n",
    "if op=='+':\n",
    "    print(\"result:\", a+b)\n",
    "elif op=='-':\n",
    "    print(\"result:\", a-b)\n",
    "elif op=='*':\n",
    "    print(\"result:\", a*b)\n",
    "elif op=='/':\n",
    "    if b!=0:\n",
    "        print(\"result:\", a/b)\n",
    "    else:\n",
    "        print(\"invalid input\")\n",
    "else:\n",
    "    print(\"invalid operator\")"
   ]
  }
 ],
 "metadata": {
  "kernelspec": {
   "display_name": "Python 3 (ipykernel)",
   "language": "python",
   "name": "python3"
  },
  "language_info": {
   "codemirror_mode": {
    "name": "ipython",
    "version": 3
   },
   "file_extension": ".py",
   "mimetype": "text/x-python",
   "name": "python",
   "nbconvert_exporter": "python",
   "pygments_lexer": "ipython3",
   "version": "3.12.7"
  }
 },
 "nbformat": 4,
 "nbformat_minor": 5
}
