{
 "cells": [
  {
   "cell_type": "code",
   "execution_count": null,
   "id": "5168f4f0-ccd0-4b13-bbcb-1490de410ab8",
   "metadata": {},
   "outputs": [],
   "source": [
    "'''write a program to check whether the given number is a positive, negitive or a zero'''\n",
    "num= int(input(\"enter the given number:\"))\n",
    "if num>0:\n",
    "    print(\"the number is positive\")\n",
    "elif num<0:\n",
    "    print(\"the number is negitive\")\n",
    "else:\n",
    "    print(\"the number is zero\")"
   ]
  }
 ],
 "metadata": {
  "kernelspec": {
   "display_name": "Python 3 (ipykernel)",
   "language": "python",
   "name": "python3"
  },
  "language_info": {
   "codemirror_mode": {
    "name": "ipython",
    "version": 3
   },
   "file_extension": ".py",
   "mimetype": "text/x-python",
   "name": "python",
   "nbconvert_exporter": "python",
   "pygments_lexer": "ipython3",
   "version": "3.12.7"
  }
 },
 "nbformat": 4,
 "nbformat_minor": 5
}
