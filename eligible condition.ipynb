{
 "cells": [
  {
   "cell_type": "code",
   "execution_count": null,
   "id": "30b7e9bd-dec3-4156-b598-5ec26332767c",
   "metadata": {},
   "outputs": [],
   "source": [
    "''' Write a program to check wether the person is eligible to vote by using if condition.\n",
    "testcase:\n",
    "input:23\n",
    "output:Eligible'''\n",
    "person=int(input(\"Enter the age:\"))\n",
    "limit=18\n",
    "if person>=limit:\n",
    "    print(\"elogible\")\n",
    "\n"
   ]
  }
 ],
 "metadata": {
  "kernelspec": {
   "display_name": "Python 3 (ipykernel)",
   "language": "python",
   "name": "python3"
  },
  "language_info": {
   "codemirror_mode": {
    "name": "ipython",
    "version": 3
   },
   "file_extension": ".py",
   "mimetype": "text/x-python",
   "name": "python",
   "nbconvert_exporter": "python",
   "pygments_lexer": "ipython3",
   "version": "3.12.7"
  }
 },
 "nbformat": 4,
 "nbformat_minor": 5
}
